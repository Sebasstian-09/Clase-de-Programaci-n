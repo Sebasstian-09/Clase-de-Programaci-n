{
  "nbformat": 4,
  "nbformat_minor": 0,
  "metadata": {
    "colab": {
      "provenance": []
    },
    "kernelspec": {
      "name": "python3",
      "display_name": "Python 3"
    },
    "language_info": {
      "name": "python"
    }
  },
  "cells": [
    {
      "cell_type": "code",
      "execution_count": null,
      "metadata": {
        "id": "--re7PofNcY2"
      },
      "outputs": [],
      "source": [
        "clase_1={\"estudiantes1\":[], \"notas1\":[], \"promedio1\":[]}\n",
        "clase_2={\"estudiantes2\":[], \"notas2\":[], \"promedio2\":[]}\n",
        "clase_3={\"estudiantes3\":[], \"notas3\":[], \"promedio3\":[]}\n",
        "numest1=int(input(\"Ingrese el número de estudiantes de la clase 1: \"))\n",
        "numnotas1=int(input(\"Ingrese el número de notas de la clase 1: \"))\n",
        "numest2=int(input(\"Ingrese el número de estudiantes de la clase 2: \"))\n",
        "numnotas2=int(input(\"Ingrese el número de notas de la clase 2: \"))\n",
        "numest3=int(input(\"Ingrese el número de estudiantes de la clase 3: \"))\n",
        "numnotas3=int(input(\"Ingrese el número de notas de la clase 3: \"))\n",
        "clase_1[\"estudiantes1\"]=clase_1[\"estudiantes1\"]*numest1\n",
        "clase_1[\"notas1\"]=clase_1[\"notas1\"]*numnotas1\n",
        "clase_2[\"estudiantes2\"]=clase_2[\"estudiantes2\"]*numest2\n",
        "clase_2[\"notas2\"]=clase_2[\"notas2\"]*numnotas2\n",
        "clase_3[\"estudiantes3\"]=clase_3[\"estudiantes3\"]*numest3\n",
        "clase_3[\"notas3\"]=clase_3[\"notas3\"]*numnotas3\n",
        "\n",
        "for a in range(0,numest1):\n",
        "  clase_1[\"estudiantes1\"][a]=input(\"Clase1, estudiante\", a,\": \")\n",
        "\n",
        "for a in range(0,numest2):\n",
        "  clase_2[\"estudiantes2\"][a]=input(\"Clase2, estudiante\", a,\": \")\n",
        "\n",
        "for a in range(0,numest3):\n",
        "  clase_3[\"estudiantes3\"][a]=input(\"Clase3, estudiante\", a,\": \")\n",
        "\n"
      ]
    }
  ]
}