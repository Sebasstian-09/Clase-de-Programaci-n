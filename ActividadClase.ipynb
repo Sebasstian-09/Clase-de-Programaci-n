{
  "nbformat": 4,
  "nbformat_minor": 0,
  "metadata": {
    "colab": {
      "name": "ActividadClase.ipynb",
      "provenance": []
    },
    "kernelspec": {
      "name": "python3",
      "display_name": "Python 3"
    },
    "language_info": {
      "name": "python"
    }
  },
  "cells": [
    {
      "cell_type": "markdown",
      "source": [
        "#Trabajo en clase\n",
        "##Ejercicio 1"
      ],
      "metadata": {
        "id": "ELepxrjHsdWN"
      }
    },
    {
      "cell_type": "code",
      "source": [
        "a=int(input(\"Escribe un número entero: \"))\n",
        "b=int(input(\"Escribe otro número entero: \"))\n",
        "if b==0:\n",
        "  print(\"ERROR, No se puede dividir entre cero\")\n",
        "else:\n",
        "  c=a%b\n",
        "  if c==0:\n",
        "    print(\"La división es exacta\")\n",
        "  else:\n",
        "    print(\"La división no es exacta y su residuo es \",c )"
      ],
      "metadata": {
        "colab": {
          "base_uri": "https://localhost:8080/"
        },
        "id": "fLOoOrLrslCB",
        "outputId": "89a70841-9c72-45bd-d864-6ee9a20e5846"
      },
      "execution_count": 7,
      "outputs": [
        {
          "output_type": "stream",
          "name": "stdout",
          "text": [
            "Escribe un número entero: 45\n",
            "Escribe otro número entero: 0\n",
            "ERROR, No se puede dividir entre cero\n"
          ]
        }
      ]
    },
    {
      "cell_type": "markdown",
      "source": [
        "##Ejercicio 2"
      ],
      "metadata": {
        "id": "qBPKMHE_xNF_"
      }
    },
    {
      "cell_type": "code",
      "source": [
        "a=float(input(\"Escribe un número: \"))\n",
        "b=float(input(\"Escribe otro número: \"))\n",
        "if a%b==0:\n",
        "  print(\"Los números son multiplos entre si\")\n",
        "else:\n",
        "  print(\"Los números no son multiplos entre si\")"
      ],
      "metadata": {
        "colab": {
          "base_uri": "https://localhost:8080/"
        },
        "id": "qr2KYuYdxPfH",
        "outputId": "362afa3d-e15d-4ed3-8b3e-1fc8027010a3"
      },
      "execution_count": 14,
      "outputs": [
        {
          "output_type": "stream",
          "name": "stdout",
          "text": [
            "Escribe un número: 9\n",
            "Escribe otro número: 4.5\n",
            "Los números son multiplos entre si\n"
          ]
        }
      ]
    },
    {
      "cell_type": "markdown",
      "source": [
        "##Ejercicio 3"
      ],
      "metadata": {
        "id": "jXTcXNBRy5wf"
      }
    },
    {
      "cell_type": "code",
      "source": [
        "edad_1=int(input(\"Escribe la edad un hermano: \"))\n",
        "edad_2=int(input(\"Escribe la edad otro hermano: \"))\n",
        "edad_3=int(input(\"Escribe la edad el otro hermano: \"))\n",
        "if edad_1==edad_2==edad_3:\n",
        "  print(\"Tienen la misma edad\")\n",
        "elif edad_1==edad_2 and edad_1>edad_3:\n",
        "  print(\"Dos hermanos tienen la misma edad, y ordenando su edad de menor a mayor queda: \", edad_3, edad_2, edad_1)\n",
        "elif edad_1==edad_3 and edad_1>edad_2:\n",
        "  print(\"Dos hermanos tienen la misma edad, y ordenando su edad de menor a mayor queda: \", edad_2, edad_3, edad_1)\n",
        "elif edad_2==edad_3 and edad_2>edad_1:\n",
        "  print(\"Dos hermanos tienen la misma edad, y ordenando su edad de menor a mayor queda: \", edad_1, edad_3, edad_2)\n",
        "elif edad_1<edad_2 and edad_2<edad_3:\n",
        "  print(\"Ordenando las edades de menor a mayor queda: \", edad_1, edad_2, edad_3)\n",
        "elif edad_2<edad_1 and edad_1<edad_3:\n",
        "  print(\"Ordenando las edades de menor a mayor queda: \", edad_2, edad_1, edad_3)\n",
        "elif edad_3<edad_1 and edad_1<edad_2:\n",
        "  print(\"Ordenando las edades de menor a mayor queda: \", edad_3, edad_1, edad_2)\n",
        "elif edad_1<edad_3 and edad_3<edad_2:\n",
        "  print(\"Ordenando las edades de menor a mayor queda: \", edad_1, edad_3, edad_2)\n",
        "elif edad_2<edad_3 and edad_3<edad_1:\n",
        "  print(\"Ordenando las edades de menor a mayor queda: \", edad_2, edad_3, edad_1)\n",
        "elif edad_3<edad_2 and edad_2<edad_1:\n",
        "  print(\"Ordenando las edades de menor a mayor queda: \", edad_3, edad_2, edad_1)"
      ],
      "metadata": {
        "colab": {
          "base_uri": "https://localhost:8080/"
        },
        "id": "_A1nKWYhzt9P",
        "outputId": "53ff898b-61a5-47c7-db5d-c40c3c7ff826"
      },
      "execution_count": 22,
      "outputs": [
        {
          "output_type": "stream",
          "name": "stdout",
          "text": [
            "Escribe la edad un hermano: 20\n",
            "Escribe la edad otro hermano: 20\n",
            "Escribe la edad el otro hermano: 15\n",
            "Dos hermanos tienen la misma edad, y ordenando su edad de menor a mayor queda:  15 20 20\n"
          ]
        }
      ]
    },
    {
      "cell_type": "markdown",
      "source": [
        "##Ejercicio 4"
      ],
      "metadata": {
        "id": "5vKP6NTo6phA"
      }
    },
    {
      "cell_type": "code",
      "source": [
        "print(\"Bienvedio al sistema para consultar si debes pagar impuesto sobre la renta\")\n",
        "nombre=str(input(\"Escribe tu nombre: \"))\n",
        "cédula=str(input(\"Escribe tu numero de cédula: \"))\n",
        "patrimonio=float(input(\"Escriba su patrimonio bruto al término del respectivo año gravable: \"))\n",
        "ingresos=float(input(\"Escribe tus ingresos totales del respectivo ejercicio gravable: \"))\n",
        "if patrimonio>=163386000 or ingresos>=50831000:\n",
        "  print(\"El ciudadano \", nombre, \"identificado con la cédula de ciudadanía\", cédula, \"debe paagar el impuesto de renta\")\n",
        "else:\n",
        "  print(\"El ciudadano \", nombre, \"identificado con la cédula de ciudadanía\", cédula, \"NO debe paagar el impuesto de renta\")\n"
      ],
      "metadata": {
        "colab": {
          "base_uri": "https://localhost:8080/"
        },
        "id": "3UZWPUjS6s3I",
        "outputId": "b9b22a5d-01ac-4b0f-815c-bae136dd4284"
      },
      "execution_count": 23,
      "outputs": [
        {
          "output_type": "stream",
          "name": "stdout",
          "text": [
            "Bienvedio al sistema para consultar si debes pagar impuesto sobre la renta\n",
            "Escribe tu nombre: Juan Sebastián Zambrano Toledo\n",
            "Escribe tu numero de cédula: 1097489562\n",
            "Escriba su patrimonio bruto al término del respectivo año gravable: 160000000\n",
            "Escribe tus ingresos totales del respectivo ejercicio gravable: 50000000\n",
            "El ciudadano  Juan Sebastián Zambrano Toledo identificado con la cédula de ciudadania 1097489562 NO debe paagar el impuesto de renta\n"
          ]
        }
      ]
    },
    {
      "cell_type": "markdown",
      "source": [
        "##Ejercicio 6"
      ],
      "metadata": {
        "id": "M1i0BLBSDklc"
      }
    },
    {
      "cell_type": "code",
      "source": [
        "nota1=float(input(\"Escribe una nota: \"))\n",
        "while nota1>5 or nota1<0:\n",
        "  nota1=float(input(\"La nota no puede ser mayor que 5 o menor que 0, Escribe nuevamente tu nota: \"))\n",
        "nota2=float(input(\"Escribe otra nota: \"))\n",
        "while nota2>5 or nota2<0:\n",
        "  nota2=float(input(\"La nota no puede ser mayor que 5 o menor que 0, Escribe nuevamente tu nota: \"))\n",
        "nota3=float(input(\"Escribe otra nota: \"))\n",
        "while nota3>5 or nota3<0:\n",
        "  nota3=float(input(\"La nota no puede ser mayor que 5 o menor que 0, Escribe nuevamente tu nota: \"))\n",
        "nota4=float(input(\"Escribe otra nota: \"))\n",
        "while nota4>5 or nota4<0:\n",
        "  nota4=float(input(\"La nota no puede ser mayor que 5 o menor que 0, Escribe nuevamente tu nota: \"))\n",
        "suma_notas=nota1+nota2+nota3+nota4\n",
        "promedio=suma_notas/4\n",
        "print(\"Tu promedio es \", promedio3)\n",
        "if promedio>4.5:\n",
        "  print(\"Estas eximido del último examen\")\n",
        "elif promedio<=4.5 and promedio>=3.5:\n",
        "  print(\"Debes presentar el examen final\")\n",
        "elif promedio<3.5 and promedio>=3:\n",
        "  print(\"Debes presentarel examen final y adicionalmente debes presentar un trabajo\")\n",
        "elif promedio>2 and promedio<3:\n",
        "  print(\"Debes presentar habilitación\")\n",
        "else:\n",
        "  print(\"Reprobaste la materia irremediablemente\")"
      ],
      "metadata": {
        "colab": {
          "base_uri": "https://localhost:8080/"
        },
        "id": "Q3CfNiyID9Mr",
        "outputId": "feb74456-fec7-49eb-8920-f4cfdb45231c"
      },
      "execution_count": 25,
      "outputs": [
        {
          "output_type": "stream",
          "name": "stdout",
          "text": [
            "Escribe una nota: 4\n",
            "Escribe otra nota: .5\n",
            "Escribe otra nota: 6\n",
            "La nota no puede ser mayor que 5 o menor que 0, Escribe nuevamente tu nota: 3\n",
            "Escribe otra nota: 1\n",
            "Tu promedio es  2.125\n",
            "Debes presentar habilitación\n"
          ]
        }
      ]
    }
  ]
}