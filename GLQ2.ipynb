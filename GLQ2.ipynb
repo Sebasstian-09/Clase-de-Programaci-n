{
  "nbformat": 4,
  "nbformat_minor": 0,
  "metadata": {
    "colab": {
      "provenance": []
    },
    "kernelspec": {
      "name": "python3",
      "display_name": "Python 3"
    },
    "language_info": {
      "name": "python"
    }
  },
  "cells": [
    {
      "cell_type": "code",
      "execution_count": 6,
      "metadata": {
        "colab": {
          "base_uri": "https://localhost:8080/"
        },
        "id": "nTFMIM5IJznS",
        "outputId": "8c3ea144-ea8f-4940-c7cd-32044ce8cb54"
      },
      "outputs": [
        {
          "output_type": "stream",
          "name": "stdout",
          "text": [
            "Convertidor de tasas de interés\n",
            "Selecciona el tipo de tasa que tengas:\n",
            "1.Tasa efectiva anual\n",
            "2.Tasa nominal\n",
            "1\n",
            "Ingresa el porcentaje de la tasa de interés: 11.15\n",
            "Selecciona el tipo de tasa nominal al que quieres convertir:\n",
            "1.AMV (Anual mes vencido)\n",
            "2.ATV (Anual trimestre vencido)\n",
            "3.ACV (Anual cuatrimestre vencido)\n",
            "4.ASV (Anual semestre vencido)\n",
            "5.AAV (Anual año vencido)\n",
            "1\n",
            "La tasa de interés AMV es 0.88 %\n"
          ]
        }
      ],
      "source": [
        "print(\"Convertidor de tasas de interés\")\n",
        "tasa=int(input(\"Selecciona el tipo de tasa que tengas:\\n1.Tasa efectiva anual\\n2.Tasa nominal\\n\"))\n",
        "itasa=float(input(\"Ingresa el porcentaje de la tasa de interés: \"))\n",
        "iTasa=itasa/100\n",
        "if tasa==1:\n",
        "  tnm=(iTasa+1)**(1/12)-1\n",
        "  Tnm=tnm*100\n",
        "  convertir=int(input(\"Selecciona el tipo de tasa nominal al que quieres convertir:\\n1.AMV (Anual mes vencido)\\n2.ATV (Anual trimestre vencido)\\n3.ACV (Anual cuatrimestre vencido)\\n4.ASV (Anual semestre vencido)\\n5.AAV (Anual año vencido)\\n\"))\n",
        "  if convertir==1:\n",
        "    print(\"La tasa de interés AMV es\", round(Tnm, 2), \"%\")\n",
        "  elif convertir==2:\n",
        "    Tnt=Tnm*3\n",
        "    print(\"La tasa de interés ATV es\", round(Tnt, 2), \"%\")\n",
        "  elif convertir==3:\n",
        "    Tnc=Tnm*4\n",
        "    print(\"La tasa de interés ACV es\", round(Tnc, 2), \"%\")\n",
        "  elif convertir==4:\n",
        "    Tns=Tnm*6\n",
        "    print(\"La tasa de interés ASV es\", round(Tns, 2), \"%\")\n",
        "  elif convertir==5:\n",
        "    Tna=Tnm*12\n",
        "    print(\"La tasa de interés AAV es\", round(Tna, 2), \"%\")\n",
        "elif tasa==2:\n",
        "  periodoi=int(input(\"Seleccione una opción:\\n1.Mensual\\n2.Trimestral\\n3.Cuatrimestral\\n4.Semestral\\n5.Anual\\n\"))\n",
        "  if periodoi==1:\n",
        "    team=(1+iTasa)**12-1\n",
        "    Team=team*100\n",
        "    print(\"La tasa efectiva anual es\", round(Team, 2), \"%\")\n",
        "  elif periodoi==2:\n",
        "    team=(1+iTasa)**4-1\n",
        "    Teat=team*100\n",
        "    print(\"La tasa efectiva anual es\", round(Teat, 2), \"%\")\n",
        "  elif periodoi==3:\n",
        "    team=(1+iTasa)**3-1\n",
        "    Teac=team*100\n",
        "    print(\"La tasa efectiva anual es\", round(Teac, 2), \"%\")\n",
        "  elif periodoi==4:\n",
        "    team=(1+iTasa)**2-1\n",
        "    Teas=team*100\n",
        "    print(\"La tasa efectiva anual es\", round(Teas, 2), \"%\")\n",
        "  elif periodoi==5:\n",
        "    team=(1+iTasa)**1-1\n",
        "    Tea=team*100\n",
        "    print(\"La tasa efectiva anual es\", round(Tea, 2), \"%\")"
      ]
    }
  ]
}