{
  "nbformat": 4,
  "nbformat_minor": 0,
  "metadata": {
    "colab": {
      "provenance": []
    },
    "kernelspec": {
      "name": "python3",
      "display_name": "Python 3"
    },
    "language_info": {
      "name": "python"
    }
  },
  "cells": [
    {
      "cell_type": "code",
      "execution_count": 30,
      "metadata": {
        "colab": {
          "base_uri": "https://localhost:8080/"
        },
        "id": "Zbj0BDAn9EEr",
        "outputId": "8f0a1c8d-8561-423d-8b9e-14b85d81cb48"
      },
      "outputs": [
        {
          "output_type": "stream",
          "name": "stdout",
          "text": [
            "          Producto  Precio\n",
            "0          Combo 1   20000\n",
            "1          Combo 2   25000\n",
            "2          Combo 3   18000\n",
            "3          Combo 4   24500\n",
            "4            Papas    3000\n",
            "5  Jugos naturales    7000\n",
            "6          Cerveza    3500\n",
            "7             Agua    4000\n",
            "8          Gaseosa    2500\n",
            "Escribe la cantidad de cada producto que deseas ordenar en su respectivo orden\n",
            "2\n",
            "0\n",
            "0\n",
            "0\n",
            "0\n",
            "0\n",
            "0\n",
            "2\n",
            "0\n",
            "          Producto  Precio  Cantidad  Pagar\n",
            "0          Combo 1   20000         2  40000\n",
            "1          Combo 2   25000         0      0\n",
            "2          Combo 3   18000         0      0\n",
            "3          Combo 4   24500         0      0\n",
            "4            Papas    3000         0      0\n",
            "5  Jugos naturales    7000         0      0\n",
            "6          Cerveza    3500         0      0\n",
            "7             Agua    4000         2   8000\n",
            "8          Gaseosa    2500         0      0\n",
            "9            Total       0         0  48000\n",
            "Hay mas clientes (Sí o no): si\n",
            "          Producto  Precio\n",
            "0          Combo 1   20000\n",
            "1          Combo 2   25000\n",
            "2          Combo 3   18000\n",
            "3          Combo 4   24500\n",
            "4            Papas    3000\n",
            "5  Jugos naturales    7000\n",
            "6          Cerveza    3500\n",
            "7             Agua    4000\n",
            "8          Gaseosa    2500\n",
            "Escribe la cantidad de cada producto que deseas ordenar en su respectivo orden\n",
            "2\n",
            "0\n",
            "1\n",
            "5\n",
            "3\n",
            "0\n",
            "0\n",
            "0\n",
            "0\n",
            "          Producto  Precio  Cantidad   Pagar\n",
            "0          Combo 1   20000         2   40000\n",
            "1          Combo 2   25000         0       0\n",
            "2          Combo 3   18000         1   18000\n",
            "3          Combo 4   24500         5  122500\n",
            "4            Papas    3000         3    9000\n",
            "5  Jugos naturales    7000         0       0\n",
            "6          Cerveza    3500         0       0\n",
            "7             Agua    4000         0       0\n",
            "8          Gaseosa    2500         0       0\n",
            "9            Total       0         0  189500\n",
            "Hay mas clientes (Sí o no): uwu\n",
            "Las ganacias del día son de:  237500\n"
          ]
        }
      ],
      "source": [
        "import pandas as pd\n",
        "activo=\"Sí\"\n",
        "ganancia=0\n",
        "while activo==\"Sí\" or activo==\"si\" or activo==\"sí\" or activo==\"Si\" or activo==\"SI\":\n",
        "  Menu={\"Producto\":[\"Combo 1\",\"Combo 2\",\"Combo 3\",\"Combo 4\",\"Papas\",\"Jugos naturales\",\"Cerveza\",\"Agua\",\"Gaseosa\"], \"Precio\":[20000,25000,18000,24500,3000,7000,3500,4000,2500]}\n",
        "  print(pd.DataFrame.from_dict(Menu))\n",
        "  print(\"Escribe la cantidad de cada producto que deseas ordenar en su respectivo orden\")\n",
        "  activo=\"Sí\"\n",
        "  orden={\"Producto\":[\"Combo 1\",\"Combo 2\",\"Combo 3\",\"Combo 4\",\"Papas\",\"Jugos naturales\",\"Cerveza\",\"Agua\",\"Gaseosa\",\"Total\"], \"Precio\":[20000,25000,18000,24500,3000,7000,3500,4000,2500,0], \"Cantidad\":[int(input()),int(input()),int(input()),int(input()),int(input()),int(input()),int(input()),int(input()),int(input()), 0]}\n",
        "  orden[\"Pagar\"]=[orden[\"Precio\"][0]*orden[\"Cantidad\"][0], orden[\"Precio\"][1]*orden[\"Cantidad\"][1], orden[\"Precio\"][2]*orden[\"Cantidad\"][2], orden[\"Precio\"][3]*orden[\"Cantidad\"][3], orden[\"Precio\"][4]*orden[\"Cantidad\"][4], orden[\"Precio\"][5]*orden[\"Cantidad\"][5], orden[\"Precio\"][6]*orden[\"Cantidad\"][6],orden[\"Precio\"][7]*orden[\"Cantidad\"][7], orden[\"Precio\"][8]*orden[\"Cantidad\"][8],0]\n",
        "  orden['Pagar'][9]=orden['Pagar'][0]+orden['Pagar'][1]+orden['Pagar'][2]+orden['Pagar'][3]+orden['Pagar'][4]+orden['Pagar'][5]+orden['Pagar'][6]+orden['Pagar'][7]+orden['Pagar'][8]\n",
        "  print(pd.DataFrame.from_dict(orden))\n",
        "  activo=input(\"Hay mas clientes (Sí o no): \")\n",
        "  ganancia+=orden[\"Pagar\"][9]\n",
        "print(\"Las ganacias del día son de: \",ganancia)"
      ]
    }
  ]
}