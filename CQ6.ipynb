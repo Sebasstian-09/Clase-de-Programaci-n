{
  "nbformat": 4,
  "nbformat_minor": 0,
  "metadata": {
    "colab": {
      "provenance": []
    },
    "kernelspec": {
      "name": "python3",
      "display_name": "Python 3"
    },
    "language_info": {
      "name": "python"
    }
  },
  "cells": [
    {
      "cell_type": "code",
      "execution_count": 2,
      "metadata": {
        "colab": {
          "base_uri": "https://localhost:8080/"
        },
        "id": "N6dEpQKweMQ8",
        "outputId": "9fe813eb-1741-45b1-c66b-3189920f7831"
      },
      "outputs": [
        {
          "output_type": "stream",
          "name": "stdout",
          "text": [
            "False\n",
            "0\n"
          ]
        }
      ],
      "source": [
        "#False: es una variable booleana que significa falso (numéricamente es cero)\n",
        "a=False\n",
        "print(a)\n",
        "print(a+0)"
      ]
    },
    {
      "cell_type": "code",
      "source": [
        "#None: denota falta de valor\n",
        "lista=[None,1,None,2,None,3 ]\n",
        "print(lista)\n",
        "SinNone=[]\n",
        "for i in lista:\n",
        "  if i!= None:\n",
        "    SinNone.append(i)\n",
        "print(\"Lista después de eliminar los 'Nones'\", str(SinNone))"
      ],
      "metadata": {
        "colab": {
          "base_uri": "https://localhost:8080/"
        },
        "id": "OtlCqyfjfRuO",
        "outputId": "463f6aaf-21d7-44c5-d69e-8fd3774d07a3"
      },
      "execution_count": 3,
      "outputs": [
        {
          "output_type": "stream",
          "name": "stdout",
          "text": [
            "[None, 1, None, 2, None, 3]\n",
            "Lista después de eliminar los 'Nones' [1, 2, 3]\n"
          ]
        }
      ]
    },
    {
      "cell_type": "code",
      "source": [
        "#True:true es una variable booleana que significa verdadero (numéricamente es uno)\n",
        "a=True\n",
        "print(a)\n",
        "print(a+0)"
      ],
      "metadata": {
        "colab": {
          "base_uri": "https://localhost:8080/"
        },
        "id": "BGqrnALGfAEG",
        "outputId": "b125f9e3-73aa-477f-de34-1c4038244628"
      },
      "execution_count": 4,
      "outputs": [
        {
          "output_type": "stream",
          "name": "stdout",
          "text": [
            "True\n",
            "1\n"
          ]
        }
      ]
    },
    {
      "cell_type": "code",
      "source": [
        "#and: es un operador lógico que devuelve True si el valor de ambos operandos es True , y devuelve False si cualquier valor de los dos operandos es False\n",
        "b=3\n",
        "c=1\n",
        "if b==3 and  c==1:\n",
        "  print(\"and funciona\")\n",
        "else:\n",
        "  print(\"and no funciona\")"
      ],
      "metadata": {
        "colab": {
          "base_uri": "https://localhost:8080/"
        },
        "id": "FpObLkBCi1r9",
        "outputId": "c7dcb837-6b5c-43d7-aedc-d637665d9a9f"
      },
      "execution_count": 5,
      "outputs": [
        {
          "output_type": "stream",
          "name": "stdout",
          "text": [
            "and funciona\n"
          ]
        }
      ]
    },
    {
      "cell_type": "code",
      "source": [
        "#as: sirve para cambiarle el nombre a una función\n",
        "#import: se usa para importar funciones que han sido exportadas desde un módulo externo.\n",
        "import pandas as pd\n",
        "activo=\"Sí\"\n",
        "ganancia=0\n",
        "Menu={\"Producto\":[\"Combo 1\",\"Combo 2\",\"Combo 3\",\"Combo 4\",\"Papas\",\"Jugos naturales\",\"Cerveza\",\"Agua\",\"Gaseosa\"], \"Precio\":[20000,25000,18000,24500,3000,7000,3500,4000,2500]}\n",
        "print(pd.DataFrame.from_dict(Menu))"
      ],
      "metadata": {
        "colab": {
          "base_uri": "https://localhost:8080/"
        },
        "id": "GOq89uoZvkMl",
        "outputId": "660a8dba-3f42-454b-85f6-0db314795335"
      },
      "execution_count": 10,
      "outputs": [
        {
          "output_type": "stream",
          "name": "stdout",
          "text": [
            "          Producto  Precio\n",
            "0          Combo 1   20000\n",
            "1          Combo 2   25000\n",
            "2          Combo 3   18000\n",
            "3          Combo 4   24500\n",
            "4            Papas    3000\n",
            "5  Jugos naturales    7000\n",
            "6          Cerveza    3500\n",
            "7             Agua    4000\n",
            "8          Gaseosa    2500\n"
          ]
        }
      ]
    },
    {
      "cell_type": "code",
      "source": [
        "#assert: nos permite realizar comprobaciones. Si la expresión contenida dentro del mismo es False, se lanzará una excepción, concretamente AssertionError.\n",
        "assert(1+1==2)\n"
      ],
      "metadata": {
        "id": "R6mAErnK2HXt"
      },
      "execution_count": 12,
      "outputs": []
    },
    {
      "cell_type": "code",
      "source": [
        "#break: proporciona la oportunidad de cerrar un bucle cuando se activa una condición externa.\n",
        "x=2\n",
        "while x<3:\n",
        "  print(x)\n",
        "  break"
      ],
      "metadata": {
        "colab": {
          "base_uri": "https://localhost:8080/"
        },
        "id": "CufT1i493HSI",
        "outputId": "a357b892-42cd-4c85-b07e-efae26aa73b5"
      },
      "execution_count": 13,
      "outputs": [
        {
          "output_type": "stream",
          "name": "stdout",
          "text": [
            "2\n"
          ]
        }
      ]
    },
    {
      "cell_type": "code",
      "source": [
        "#class: proveen todas las características normales de la Programación Orientada a Objetos\n",
        "class Estudiante:\n",
        "\n",
        "    def __init__(self, nombre):\n",
        "        self.nombre = nombre\n",
        "\n",
        "    def saludar(self):\n",
        "        \"\"\"Imprime un saludo en pantalla.\"\"\"\n",
        "        print(f\"¡Hola, {self.nombre}!\")\n",
        "\n",
        "\n",
        "Estudiante = Estudiante(\"Sebastián\")\n",
        "Estudiante.saludar()"
      ],
      "metadata": {
        "colab": {
          "base_uri": "https://localhost:8080/"
        },
        "id": "tbhEWwHa3dyv",
        "outputId": "9406bd78-6da8-43c3-83f3-42800fa4ba5e"
      },
      "execution_count": 15,
      "outputs": [
        {
          "output_type": "stream",
          "name": "stdout",
          "text": [
            "¡Hola, Sebastián!\n"
          ]
        }
      ]
    },
    {
      "cell_type": "code",
      "source": [
        "#continue: da la opción de omitir la parte de un bucle en la que se activa una condición externa, pero continuar para completar el resto del bucle.\n",
        "a=0\n",
        "\n",
        "for a in range(5):\n",
        "    if a == 5:\n",
        "        continue    \n",
        "\n",
        "    print(\"El número es\", str(a))"
      ],
      "metadata": {
        "colab": {
          "base_uri": "https://localhost:8080/"
        },
        "id": "YhC9MWSaDj0J",
        "outputId": "da8e4b07-1acd-4c39-aa3d-601f5fc427ec"
      },
      "execution_count": 17,
      "outputs": [
        {
          "output_type": "stream",
          "name": "stdout",
          "text": [
            "El número es 0\n",
            "El número es 1\n",
            "El número es 2\n",
            "El número es 3\n",
            "El número es 4\n"
          ]
        }
      ]
    },
    {
      "cell_type": "code",
      "source": [
        "#def: indica que una nueva función está siendo definida\n",
        "#return: sirve para devolver un valor que se genera en una función\n",
        "def raiz_cuadrada (x):\n",
        "  return int(x**(1/2))\n",
        "x=int(input(\"Escriba un numero: \"))\n",
        "print(raiz_cuadrada(x))"
      ],
      "metadata": {
        "colab": {
          "base_uri": "https://localhost:8080/"
        },
        "id": "NWGENv_tEB5K",
        "outputId": "3026303c-67fd-4a0e-ce73-5b878d9304e3"
      },
      "execution_count": 19,
      "outputs": [
        {
          "output_type": "stream",
          "name": "stdout",
          "text": [
            "Escriba un numero: 64\n",
            "8\n"
          ]
        }
      ]
    },
    {
      "cell_type": "code",
      "source": [
        "#del: Sirve para eliminar elementos de una lista.\n",
        "lista=[1,2,3,4,5]\n",
        "del lista[0:4]\n",
        "print(lista)"
      ],
      "metadata": {
        "colab": {
          "base_uri": "https://localhost:8080/"
        },
        "id": "6Rc2t8f-TLrk",
        "outputId": "86439519-5163-45ad-cd92-6a8d44e62e32"
      },
      "execution_count": 21,
      "outputs": [
        {
          "output_type": "stream",
          "name": "stdout",
          "text": [
            "[5]\n"
          ]
        }
      ]
    },
    {
      "cell_type": "code",
      "source": [
        "#elif:podría traducirse como Else If y se utiliza para enlazar varios else if sin aumentar las tabulaciones.\n",
        "a=2+2*1-1\n",
        "if a==0:\n",
        "  print(\"a es igual que 0\")\n",
        "elif a<4:\n",
        "  print(\"a es menor que 4\")\n",
        "else:\n",
        "  print(\"a es mayor o igual a 4\")"
      ],
      "metadata": {
        "colab": {
          "base_uri": "https://localhost:8080/"
        },
        "id": "hmbKDqXLT46p",
        "outputId": "fda58bbb-fe91-4eaa-ae8a-54f2f8e4e03c"
      },
      "execution_count": 22,
      "outputs": [
        {
          "output_type": "stream",
          "name": "stdout",
          "text": [
            "a es menor que 4\n"
          ]
        }
      ]
    },
    {
      "cell_type": "code",
      "source": [
        "#else: es lo que se ejecuta cuando la condición evaluada en el if es false\n",
        "a=int(input(\"Escribe un número: \"))\n",
        "if a==0:\n",
        "  print(\"a es igual que 0\")\n",
        "else:\n",
        "  print(\"a es diferente a 0\")"
      ],
      "metadata": {
        "colab": {
          "base_uri": "https://localhost:8080/"
        },
        "id": "PsV-iSGgU_yh",
        "outputId": "4380e189-5281-40e3-e038-b556e5d380b9"
      },
      "execution_count": 23,
      "outputs": [
        {
          "output_type": "stream",
          "name": "stdout",
          "text": [
            "Escribe un número: -5\n",
            "a es diferente a 0\n"
          ]
        }
      ]
    },
    {
      "cell_type": "code",
      "source": [
        "#except: El bloque except se ejecutará cuando el bloque try falle debido a un error. \n",
        "try:\n",
        "    a = 2/0\n",
        "except ZeroDivisionError:\n",
        "    print(\"No se puede dividir entre cero\")"
      ],
      "metadata": {
        "colab": {
          "base_uri": "https://localhost:8080/"
        },
        "id": "gZ1bC1tJVq35",
        "outputId": "69600aaf-362f-4847-a164-fa34b1806b59"
      },
      "execution_count": 24,
      "outputs": [
        {
          "output_type": "stream",
          "name": "stdout",
          "text": [
            "No se puede dividir entre cero\n"
          ]
        }
      ]
    },
    {
      "cell_type": "code",
      "source": [
        "#try: es el bloque con las sentencias que quieres ejecutar.\n",
        "#finally: puede ubicarse donde se escriben las sentencias de finalización, que son típicamente acciones de limpieza.\n",
        "try:\n",
        "    a = 1 + \"cantar\"\n",
        "except TypeError:\n",
        "    print(\"Problema de tipos\")\n",
        "finally:\n",
        "  print(\"1 + cantar\")"
      ],
      "metadata": {
        "colab": {
          "base_uri": "https://localhost:8080/"
        },
        "id": "Y0fsNSozWD-7",
        "outputId": "69902540-0518-4044-a4d0-66f2f15f90ae"
      },
      "execution_count": 26,
      "outputs": [
        {
          "output_type": "stream",
          "name": "stdout",
          "text": [
            "Problema de tipos\n",
            "1 + cantar\n"
          ]
        }
      ]
    },
    {
      "cell_type": "code",
      "source": [
        "#for: establece la variable iteradora en cada valor de una lista, arreglo o cadena proporcionada y repite el código en el cuerpo del bucle for para cada valor de la variable iteradora.\n",
        "for i in range (0, 5):\n",
        "  print(i)"
      ],
      "metadata": {
        "colab": {
          "base_uri": "https://localhost:8080/"
        },
        "id": "Gz1-XatbW73n",
        "outputId": "037fad42-cd9a-4c5f-cee4-afd47bf565bf"
      },
      "execution_count": 30,
      "outputs": [
        {
          "output_type": "stream",
          "name": "stdout",
          "text": [
            "0\n",
            "1\n",
            "2\n",
            "3\n",
            "4\n"
          ]
        }
      ]
    },
    {
      "cell_type": "code",
      "source": [
        "#from: se utiliza en conjunto a la previa sentencia import para importar un módulo.\n",
        "import random\n",
        "def es_multiplo(a,b):\n",
        "  return a%b\n",
        "a=int(input(\"Escriba un numero: \"))\n",
        "b=int(input(\"Escriba otro numero: \"))\n",
        "\n",
        "from random import es_multiplo\n",
        "\n",
        "print(es_multiplo(a,b))"
      ],
      "metadata": {
        "id": "iIw3M-CkX5ea"
      },
      "execution_count": null,
      "outputs": []
    },
    {
      "cell_type": "code",
      "source": [
        "#Global:sirve para definir variables globales.\n",
        "global date\n",
        "date = \"16-09-2022\"\n",
        "\n",
        "print(date)"
      ],
      "metadata": {
        "colab": {
          "base_uri": "https://localhost:8080/"
        },
        "id": "jatjJPNjfUqQ",
        "outputId": "efefde7c-db93-42b2-9df0-433705046b41"
      },
      "execution_count": 31,
      "outputs": [
        {
          "output_type": "stream",
          "name": "stdout",
          "text": [
            "16-09-2022\n"
          ]
        }
      ]
    },
    {
      "cell_type": "code",
      "source": [
        "#if: es un condicional que sirve para evaluar condiciones.\n",
        "a=int(input(\"Ingresa un valor: \"))\n",
        "if a>0:\n",
        "  print(\"a es un número positivo\")"
      ],
      "metadata": {
        "colab": {
          "base_uri": "https://localhost:8080/"
        },
        "id": "lmZT5c1_gK78",
        "outputId": "1a30a7dd-6134-4855-8365-93bd5bfc8d1d"
      },
      "execution_count": 32,
      "outputs": [
        {
          "output_type": "stream",
          "name": "stdout",
          "text": [
            "Ingresa un valor: 1200\n",
            "a es un número positivo\n"
          ]
        }
      ]
    },
    {
      "cell_type": "code",
      "source": [
        "#import: La sentencia import se usa para importar funciones que han sido exportadas desde un módulo externo.\n",
        "import random\n",
        "x=random.randint(0, 10)\n",
        "print(x)"
      ],
      "metadata": {
        "colab": {
          "base_uri": "https://localhost:8080/"
        },
        "id": "wBg5tL7sgpvu",
        "outputId": "ce6d8cdb-0f2a-494f-c6f4-14337e573726"
      },
      "execution_count": 36,
      "outputs": [
        {
          "output_type": "stream",
          "name": "stdout",
          "text": [
            "6\n"
          ]
        }
      ]
    },
    {
      "cell_type": "code",
      "source": [
        "#in: Es un operador de pertenencia\n",
        "numeros = [1,2,3,4,5]\n",
        "print(3 in numeros )"
      ],
      "metadata": {
        "colab": {
          "base_uri": "https://localhost:8080/"
        },
        "id": "BxORxR3yhCto",
        "outputId": "ece380a3-27e8-493b-b874-86bce40e8c35"
      },
      "execution_count": 37,
      "outputs": [
        {
          "output_type": "stream",
          "name": "stdout",
          "text": [
            "True\n"
          ]
        }
      ]
    },
    {
      "cell_type": "code",
      "source": [
        "#is: Es un operador de identidad\n",
        "a = 1\n",
        "b = 2  \n",
        "c = 3\n",
        "print(a is b)"
      ],
      "metadata": {
        "colab": {
          "base_uri": "https://localhost:8080/"
        },
        "id": "YsvRk_5RhTCY",
        "outputId": "b034a411-f3f2-447a-90c4-688068c0f955"
      },
      "execution_count": 39,
      "outputs": [
        {
          "output_type": "stream",
          "name": "stdout",
          "text": [
            "False\n"
          ]
        }
      ]
    },
    {
      "cell_type": "code",
      "source": [
        "#lambda: se usa cuando necesitas una función sencilla y de rápido acceso\n",
        "ejemplo = [1, 2, 3]\n",
        "newlist = list(map(lambda x: x / 2, ejemplo))\n",
        "print(newlist) "
      ],
      "metadata": {
        "colab": {
          "base_uri": "https://localhost:8080/"
        },
        "id": "-E8hbFebhd7O",
        "outputId": "f1d8f2db-b78d-48fd-b382-1fe23b6e2f88"
      },
      "execution_count": 41,
      "outputs": [
        {
          "output_type": "stream",
          "name": "stdout",
          "text": [
            "[0.5, 1.0, 1.5]\n"
          ]
        }
      ]
    },
    {
      "cell_type": "code",
      "source": [
        "#nonlocal: indica que la variable dada sobre la que se trabaja no pertenece localmente a la función anidada dada.\n",
        "a = int(input(\"Ingrese un número: \"))\n",
        "def funcion():\n",
        "    a = 3\n",
        "    def funcion2():\n",
        "        nonlocal a\n",
        "        a = 2*a\n",
        "    funcion2()\n",
        "    print(\"X2=\",a)\n",
        "funcion()\n",
        "print(\"X1=\",a)"
      ],
      "metadata": {
        "colab": {
          "base_uri": "https://localhost:8080/"
        },
        "id": "oqZQH_6DjqVq",
        "outputId": "7b92f098-91f7-4be0-cc68-abc1caed255e"
      },
      "execution_count": 49,
      "outputs": [
        {
          "output_type": "stream",
          "name": "stdout",
          "text": [
            "Ingrese un número: 3\n",
            "X2= 6\n",
            "X1= 3\n"
          ]
        }
      ]
    },
    {
      "cell_type": "code",
      "source": [
        "#not: sirve para negar\n",
        "a=0\n",
        "if not a==1:\n",
        "  print(\"a es 0\")\n",
        "else:\n",
        "  print(\"a es 1\")"
      ],
      "metadata": {
        "colab": {
          "base_uri": "https://localhost:8080/"
        },
        "id": "yf4lP1Ahlm8b",
        "outputId": "05edee81-f69b-4b41-8ca1-a80662306a07"
      },
      "execution_count": 50,
      "outputs": [
        {
          "output_type": "stream",
          "name": "stdout",
          "text": [
            "a es 0\n"
          ]
        }
      ]
    },
    {
      "cell_type": "code",
      "source": [
        "#or: sirve para evaluar mas de una condición y sia alguna se cumple devuelve true, de lo contrario devuelve false\n",
        "if a<0 or a==0:\n",
        "  print(\"a no vale nada\")\n",
        "else:\n",
        "  print(\"a vale: \", a)"
      ],
      "metadata": {
        "colab": {
          "base_uri": "https://localhost:8080/"
        },
        "id": "Q26DbCM5l83s",
        "outputId": "7ef14111-fcea-4ac5-ddfd-d84539211909"
      },
      "execution_count": 51,
      "outputs": [
        {
          "output_type": "stream",
          "name": "stdout",
          "text": [
            "a no vale nada\n"
          ]
        }
      ]
    },
    {
      "cell_type": "code",
      "source": [
        "#pass: Es una declaración nula en Python. No pasa nada cuando se ejecuta. Se utiliza como marcador de posición.\n",
        "\n",
        "for a in range(4):\n",
        "    if a == 3:\n",
        "        pass    \n",
        "\n",
        "    print(\"número\", a)"
      ],
      "metadata": {
        "colab": {
          "base_uri": "https://localhost:8080/"
        },
        "id": "hsD-PnXsmlI1",
        "outputId": "ad6dd615-79da-4c21-8dde-a560dccd5126"
      },
      "execution_count": 54,
      "outputs": [
        {
          "output_type": "stream",
          "name": "stdout",
          "text": [
            "número 0\n",
            "número 1\n",
            "número 2\n",
            "número 3\n"
          ]
        }
      ]
    },
    {
      "cell_type": "code",
      "source": [
        "#raise: Se usa para crear excepciones, qué hacer cuando ocurre una excepción, igual que ‘except y ‘try’\n",
        "def dividir(dividendo, divisor):\n",
        "\n",
        "    try:\n",
        "        resultado = dividendo / divisor\n",
        "        return resultado   \n",
        "    except ZeroDivisionError:\n",
        "        raise ZeroDivisionError(\"El divisor no puede ser cero\")"
      ],
      "metadata": {
        "id": "FxR3aHGRnKCB"
      },
      "execution_count": 55,
      "outputs": []
    },
    {
      "cell_type": "code",
      "source": [
        "#while: es un ciclo de repetición que se ejecuta mientras que la condición sea cierta.\n",
        "edad=int(input(\"ingrese su edad: \"))\n",
        "while edad<0:\n",
        "  print(\"edad no válida\")\n",
        "  edad=int(input(\"ingrese su edad nuevamente: \"))\n",
        "print(edad)"
      ],
      "metadata": {
        "colab": {
          "base_uri": "https://localhost:8080/"
        },
        "id": "2-GticDQn0_a",
        "outputId": "1c8a8802-8bfe-4173-b169-fa90de7dd622"
      },
      "execution_count": 61,
      "outputs": [
        {
          "output_type": "stream",
          "name": "stdout",
          "text": [
            "ingrese su edad: -5\n",
            "edad no válida\n",
            "ingrese su edad nuevamente: 17\n",
            "17\n"
          ]
        }
      ]
    },
    {
      "cell_type": "code",
      "source": [
        "#with: Se usa para simplificar el manejo de excepciones"
      ],
      "metadata": {
        "id": "7BfMzapFp4rc"
      },
      "execution_count": null,
      "outputs": []
    },
    {
      "cell_type": "code",
      "source": [
        "#yield: Se usa dentro de una función al igual que ‘return’, salvo que ‘yield’ devuelve un generador."
      ],
      "metadata": {
        "id": "PkslKDDFqJKX"
      },
      "execution_count": 1,
      "outputs": []
    }
  ]
}